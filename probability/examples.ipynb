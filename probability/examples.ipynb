{
 "cells": [
  {
   "cell_type": "code",
   "execution_count": 2,
   "metadata": {},
   "outputs": [],
   "source": [
    "import geometric_distribution as gd"
   ]
  },
  {
   "cell_type": "markdown",
   "metadata": {},
   "source": [
    "Jeremiah makes 25% of the three-point shots he attempts. For a warm up, Jeremiah likes to shoot three-point shots until he successfully makes one. Let M be the number of shots it takes Jeremiah to successfully make his first three-point shot. Assume that the results of each shot are independent.\n",
    "\n",
    "*Find the probability that Jeremiah's first successful shot occurs on his 3rd attempt*\n",
    "\n",
    "https://youtu.be/jKlgEvRFItE"
   ]
  },
  {
   "cell_type": "code",
   "execution_count": 4,
   "metadata": {},
   "outputs": [
    {
     "data": {
      "text/plain": [
       "0.1385"
      ]
     },
     "execution_count": 4,
     "metadata": {},
     "output_type": "execute_result"
    }
   ],
   "source": [
    "geo = gd.GeometricDistribution(p=0.25, trials=3, bound=\"exact\")\n",
    "geo.geometric_probability_simulation(simulations=10**4)"
   ]
  },
  {
   "cell_type": "markdown",
   "metadata": {},
   "source": [
    "Emilia registers vehicles for DMV. SUV's make up 12% of all vehicles. Let V be the number of vehicles Emelia registers in a day before the first SUV.\n",
    "\n",
    "*Find the probability that Emelia registers more than 4 vehicles before she registers a SUV*\n",
    "\n",
    "https://youtu.be/7TYMKKQK8s8"
   ]
  },
  {
   "cell_type": "code",
   "execution_count": 5,
   "metadata": {},
   "outputs": [
    {
     "data": {
      "text/plain": [
       "0.6009"
      ]
     },
     "execution_count": 5,
     "metadata": {},
     "output_type": "execute_result"
    }
   ],
   "source": [
    "geo = gd.GeometricDistribution(p=0.12, trials=4, bound=\"after\")\n",
    "geo.geometric_probability_simulation(simulations=10**4)"
   ]
  },
  {
   "cell_type": "markdown",
   "metadata": {},
   "source": [
    "Lily runs a cake business. 10% of order come from telephone. Let C be the number of orders until the first telephone order.\n",
    "\n",
    "*Find the probability that it takes fewer than 5 order to get the first telephone order*\n",
    "\n",
    "https://youtu.be/nxUP4lJ_hbU"
   ]
  },
  {
   "cell_type": "code",
   "execution_count": 6,
   "metadata": {},
   "outputs": [
    {
     "data": {
      "text/plain": [
       "0.3473"
      ]
     },
     "execution_count": 6,
     "metadata": {},
     "output_type": "execute_result"
    }
   ],
   "source": [
    "geo = gd.GeometricDistribution(p=0.1, trials=4, bound=\"before\")\n",
    "geo.geometric_probability_simulation(simulations=10**4)"
   ]
  },
  {
   "cell_type": "code",
   "execution_count": null,
   "metadata": {},
   "outputs": [],
   "source": []
  }
 ],
 "metadata": {
  "kernelspec": {
   "display_name": "Python 3.9.10 64-bit",
   "language": "python",
   "name": "python3"
  },
  "language_info": {
   "codemirror_mode": {
    "name": "ipython",
    "version": 3
   },
   "file_extension": ".py",
   "mimetype": "text/x-python",
   "name": "python",
   "nbconvert_exporter": "python",
   "pygments_lexer": "ipython3",
   "version": "3.9.10"
  },
  "orig_nbformat": 4,
  "vscode": {
   "interpreter": {
    "hash": "b0fa6594d8f4cbf19f97940f81e996739fb7646882a419484c72d19e05852a7e"
   }
  }
 },
 "nbformat": 4,
 "nbformat_minor": 2
}
