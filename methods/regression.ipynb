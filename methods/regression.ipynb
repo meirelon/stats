{
 "cells": [
  {
   "cell_type": "code",
   "execution_count": 20,
   "metadata": {},
   "outputs": [],
   "source": [
    "import statsmodels.api as sm\n",
    "from scipy import stats\n",
    "import numpy as np"
   ]
  },
  {
   "cell_type": "markdown",
   "metadata": {},
   "source": [
    "*Key Questions*\n",
    "1. Can we fit a line that minimizes the least squares (find the line that hs the least sum of squared residuals)?\n",
    "2. How much of the sums of squares in our dependent variable can be explained by the independent variable (R^2)\n",
    "3. How can we tell if our R^2 value is significant (F-statistic)\n",
    "\n",
    "\n",
    " - SS(mean) = (data - x_bar)^2\n",
    " - SS(fit) = (data - line)^2\n",
    " - R^2: ( SS(mean) - SS(fit) ) / SS(fit)\n",
    " - F-statistic: ( (SS(mean) - SS(fit)) / (pfit - pmean) ) / ( SS(fit) / (n - pfit) )\n",
    "\n",
    " - pfit = number of parameters in the line\n",
    " - pmean = number of parameters in the mean line"
   ]
  },
  {
   "cell_type": "code",
   "execution_count": 15,
   "metadata": {},
   "outputs": [],
   "source": [
    "size = [1.4, 2.6, 1.0, 3.7, 5.5, 3.2, 3.0, 4.9, 6.3]\n",
    "weight = [0.9, 1.8, 2.4, 3.5, 3.9, 4.4, 5.1, 5.6, 6.3]\n",
    "weight = sm.add_constant(weight)"
   ]
  },
  {
   "cell_type": "code",
   "execution_count": 37,
   "metadata": {},
   "outputs": [
    {
     "name": "stdout",
     "output_type": "stream",
     "text": [
      "DescribeResult(nobs=9, minmax=(-1.5482051282051295, 1.8851794871794851), mean=-1.7516852166308026e-15, variance=1.2398456730769227, skewness=0.02705828720635625, kurtosis=-0.8218541701430309)\n",
      "                            OLS Regression Results                            \n",
      "==============================================================================\n",
      "Dep. Variable:                      y   R-squared:                       0.613\n",
      "Model:                            OLS   Adj. R-squared:                  0.558\n",
      "Method:                 Least Squares   F-statistic:                     11.10\n",
      "Date:                Tue, 21 Jun 2022   Prob (F-statistic):             0.0126\n",
      "Time:                        18:58:51   Log-Likelihood:                -13.208\n",
      "No. Observations:                   9   AIC:                             30.42\n",
      "Df Residuals:                       7   BIC:                             30.81\n",
      "Df Model:                           1                                         \n",
      "Covariance Type:            nonrobust                                         \n",
      "==============================================================================\n",
      "                 coef    std err          t      P>|t|      [0.025      0.975]\n",
      "------------------------------------------------------------------------------\n",
      "const          0.5813      0.965      0.603      0.566      -1.700       2.862\n",
      "x1             0.7778      0.233      3.332      0.013       0.226       1.330\n",
      "==============================================================================\n",
      "Omnibus:                        0.025   Durbin-Watson:                   2.111\n",
      "Prob(Omnibus):                  0.988   Jarque-Bera (JB):                0.254\n",
      "Skew:                           0.027   Prob(JB):                        0.881\n",
      "Kurtosis:                       2.178   Cond. No.                         10.5\n",
      "==============================================================================\n",
      "\n",
      "Notes:\n",
      "[1] Standard Errors assume that the covariance matrix of the errors is correctly specified.\n"
     ]
    },
    {
     "name": "stderr",
     "output_type": "stream",
     "text": [
      "/opt/homebrew/lib/python3.9/site-packages/scipy/stats/_stats_py.py:1477: UserWarning: kurtosistest only valid for n>=20 ... continuing anyway, n=9\n",
      "  warnings.warn(\"kurtosistest only valid for n>=20 ... continuing \"\n"
     ]
    }
   ],
   "source": [
    "m = sm.OLS(size, weight)\n",
    "results = m.fit()\n",
    "print(stats.describe(results.resid))\n",
    "print(results.summary())"
   ]
  },
  {
   "cell_type": "code",
   "execution_count": null,
   "metadata": {},
   "outputs": [],
   "source": []
  }
 ],
 "metadata": {
  "kernelspec": {
   "display_name": "Python 3.9.10 64-bit",
   "language": "python",
   "name": "python3"
  },
  "language_info": {
   "codemirror_mode": {
    "name": "ipython",
    "version": 3
   },
   "file_extension": ".py",
   "mimetype": "text/x-python",
   "name": "python",
   "nbconvert_exporter": "python",
   "pygments_lexer": "ipython3",
   "version": "3.9.10"
  },
  "orig_nbformat": 4,
  "vscode": {
   "interpreter": {
    "hash": "b0fa6594d8f4cbf19f97940f81e996739fb7646882a419484c72d19e05852a7e"
   }
  }
 },
 "nbformat": 4,
 "nbformat_minor": 2
}
