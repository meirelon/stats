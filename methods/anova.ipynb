{
 "cells": [
  {
   "cell_type": "code",
   "execution_count": 1,
   "metadata": {},
   "outputs": [],
   "source": [
    "from scipy import stats\n",
    "import numpy as np"
   ]
  },
  {
   "cell_type": "markdown",
   "metadata": {},
   "source": [
    "https://www.khanacademy.org/math/statistics-probability/analysis-of-variance-anova-library\n",
    "\n",
    "*Key Questions*\n",
    "1. How much variation comes from within the groups compared to between groups?\n",
    "2. Are the true population means between groups the same?\n",
    "\n",
    "\n",
    "*Setup*\n",
    " - 3 groups (a, b, c) each containing 3 observations (m = 3, n = 3)"
   ]
  },
  {
   "cell_type": "code",
   "execution_count": 2,
   "metadata": {},
   "outputs": [],
   "source": [
    "a = np.array([3,2,1])\n",
    "b = np.array([5,3,4])\n",
    "c = np.array([5,6,7])\n",
    "m = 3\n",
    "n = 3"
   ]
  },
  {
   "cell_type": "code",
   "execution_count": 3,
   "metadata": {},
   "outputs": [
    {
     "data": {
      "text/plain": [
       "(4.0, 30.0, 8)"
      ]
     },
     "execution_count": 3,
     "metadata": {},
     "output_type": "execute_result"
    }
   ],
   "source": [
    "grand_mean = np.sum([a,b,c])/(m*n)\n",
    "sst = np.sum([(x-grand_mean)**2 for x in [a,b,c]])\n",
    "df = (m*n)-1\n",
    "grand_mean, sst, df"
   ]
  },
  {
   "cell_type": "code",
   "execution_count": 4,
   "metadata": {},
   "outputs": [
    {
     "data": {
      "text/plain": [
       "(6.0, 6)"
      ]
     },
     "execution_count": 4,
     "metadata": {},
     "output_type": "execute_result"
    }
   ],
   "source": [
    "ssw = np.sum([(ss - np.mean(s))**2 for s in [a,b,c] for ss in s])\n",
    "dfw = m*(n-1) #obs per group times groups - 1\n",
    "ssw, dfw"
   ]
  },
  {
   "cell_type": "code",
   "execution_count": 5,
   "metadata": {},
   "outputs": [
    {
     "data": {
      "text/plain": [
       "(24.0, 2)"
      ]
     },
     "execution_count": 5,
     "metadata": {},
     "output_type": "execute_result"
    }
   ],
   "source": [
    "ssb = np.sum([len(s)*((np.mean(s) - grand_mean)**2) for s in [a,b,c]])\n",
    "dfb = m - 1 #obs per group - 1\n",
    "ssb, dfb"
   ]
  },
  {
   "cell_type": "markdown",
   "metadata": {},
   "source": [
    "H0: All the population means are the same mu1=m2=m3\n",
    "H1: Means are not the same\n",
    "\n",
    "Assume H0:\n",
    "F-statistic = ( SSB / DFB ) / (SSW / DFW )\n",
    "\n",
    " - If the numerator is larger, then that means there is a greater difference BETWEEN, so less chance that our null hypothesis is correct.\n",
    "\n",
    " - If the numerator is smaller, then that means there is a greater difference WITHIN, so better chance that our null hypothesis is correct."
   ]
  },
  {
   "cell_type": "code",
   "execution_count": 6,
   "metadata": {},
   "outputs": [
    {
     "data": {
      "text/plain": [
       "(12.0, 2, 6, 3.4633040700956514)"
      ]
     },
     "execution_count": 6,
     "metadata": {},
     "output_type": "execute_result"
    }
   ],
   "source": [
    "alpha = 0.1\n",
    "f_stat = (ssb/dfb)/(ssw/dfw)\n",
    "critical_f = stats.f.ppf(1-alpha, dfb, dfw)\n",
    "f_stat, dfb, dfw, critical_f"
   ]
  },
  {
   "cell_type": "markdown",
   "metadata": {},
   "source": [
    "Check F Distribution Tables: http://www.socr.ucla.edu/Applets.dir/F_Table.html\n",
    "\n",
    "For alpha = 0.10\n",
    "df numerator = 2\n",
    "df denominator = 6\n",
    "Critical F = 3.46\n",
    "\n",
    "Given 12 is much higher than our critical f-statistic, we REJECT the null hypotheis that our population means are equal.\n",
    "So we can conclude that there is a difference between the groups."
   ]
  }
 ],
 "metadata": {
  "kernelspec": {
   "display_name": "Python 3.9.10 64-bit",
   "language": "python",
   "name": "python3"
  },
  "language_info": {
   "codemirror_mode": {
    "name": "ipython",
    "version": 3
   },
   "file_extension": ".py",
   "mimetype": "text/x-python",
   "name": "python",
   "nbconvert_exporter": "python",
   "pygments_lexer": "ipython3",
   "version": "3.9.10"
  },
  "orig_nbformat": 4,
  "vscode": {
   "interpreter": {
    "hash": "b0fa6594d8f4cbf19f97940f81e996739fb7646882a419484c72d19e05852a7e"
   }
  }
 },
 "nbformat": 4,
 "nbformat_minor": 2
}
